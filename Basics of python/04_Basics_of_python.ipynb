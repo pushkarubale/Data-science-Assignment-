{
 "cells": [
  {
   "cell_type": "markdown",
   "id": "aad712a7-df83-4919-be7d-bbfb32ca61de",
   "metadata": {},
   "source": [
    "# Check number is prime or not "
   ]
  },
  {
   "cell_type": "code",
   "execution_count": 1,
   "id": "321b7f93-4de2-40bc-91b0-8a199ad5bf62",
   "metadata": {},
   "outputs": [
    {
     "name": "stdin",
     "output_type": "stream",
     "text": [
      "Enter a number 40\n"
     ]
    },
    {
     "name": "stdout",
     "output_type": "stream",
     "text": [
      "40 is not a prime number\n"
     ]
    }
   ],
   "source": [
    "def prime_num(num):\n",
    "    # Check if the number is less than or equal to 1, which is not prime\n",
    "    if num <= 1:\n",
    "        return False \n",
    "\n",
    "    # Iterate from 2 to num to check for divisibility\n",
    "    for i in range(2, int(num+1)):\n",
    "        if num % i == 0:\n",
    "            return False  # If divisible by any number other than 1 and itself, it's not prime\n",
    "\n",
    "    return True  # If not divisible by any number, it's prime\n",
    "\n",
    "\n",
    "num = int(input(\"Enter a number\"))\n",
    "\n",
    "# Check if the entered number is prime and print the result\n",
    "if prime_num(num):\n",
    "    print(f\"{num} is a Prime number.\")\n",
    "else:\n",
    "    print(f\"{num} is not a prime number\")"
   ]
  },
  {
   "cell_type": "markdown",
   "id": "ea8dcebf-0497-4ea5-a827-d4c78a518290",
   "metadata": {},
   "source": [
    "#  Product of Random Numbers"
   ]
  },
  {
   "cell_type": "code",
   "execution_count": 3,
   "id": "41c23012-9a5b-460e-a973-29496e5b9c11",
   "metadata": {},
   "outputs": [
    {
     "name": "stdin",
     "output_type": "stream",
     "text": [
      "What is the product of 88 and 3? 264\n"
     ]
    },
    {
     "name": "stdout",
     "output_type": "stream",
     "text": [
      "Your answer is Correct!\n"
     ]
    }
   ],
   "source": [
    "import random \n",
    "\n",
    "# Generate two random numbers: num1 from 1 to 100 and num2 from 1 to 10\n",
    "num1 = random.randint(1, 100)\n",
    "num2 = random.randint(1, 10)\n",
    "\n",
    "# Calculate their product\n",
    "answer = num1 * num2\n",
    "\n",
    "# Ask the user for the product of the two numbers\n",
    "user_ans = int(input(f\"What is the product of {num1} and {num2}?\"))\n",
    "\n",
    "# Check if the user's answer is correct and provide feedback\n",
    "if user_ans == answer:\n",
    "    print(\"Your answer is Correct!\")\n",
    "else:\n",
    "    print(f\"Your answer is wrong. The correct answer is {answer}.\")"
   ]
  },
  {
   "cell_type": "markdown",
   "id": "afb2cc05-5c3c-46a8-bd52-b3f2cd88d50b",
   "metadata": {},
   "source": [
    "#  Squares of Even/Odd Numbers within the range of 100 to 200\n"
   ]
  },
  {
   "cell_type": "code",
   "execution_count": 4,
   "id": "4e5ee671-01a8-459a-8be6-abd032285809",
   "metadata": {},
   "outputs": [
    {
     "name": "stdout",
     "output_type": "stream",
     "text": [
      "Square of 100 to 200 all even numbers are:\n",
      "100 = 10000\n",
      "102 = 10404\n",
      "104 = 10816\n",
      "106 = 11236\n",
      "108 = 11664\n",
      "110 = 12100\n",
      "112 = 12544\n",
      "114 = 12996\n",
      "116 = 13456\n",
      "118 = 13924\n",
      "120 = 14400\n",
      "122 = 14884\n",
      "124 = 15376\n",
      "126 = 15876\n",
      "128 = 16384\n",
      "130 = 16900\n",
      "132 = 17424\n",
      "134 = 17956\n",
      "136 = 18496\n",
      "138 = 19044\n",
      "140 = 19600\n",
      "142 = 20164\n",
      "144 = 20736\n",
      "146 = 21316\n",
      "148 = 21904\n",
      "150 = 22500\n",
      "152 = 23104\n",
      "154 = 23716\n",
      "156 = 24336\n",
      "158 = 24964\n",
      "160 = 25600\n",
      "162 = 26244\n",
      "164 = 26896\n",
      "166 = 27556\n",
      "168 = 28224\n",
      "170 = 28900\n",
      "172 = 29584\n",
      "174 = 30276\n",
      "176 = 30976\n",
      "178 = 31684\n",
      "180 = 32400\n",
      "182 = 33124\n",
      "184 = 33856\n",
      "186 = 34596\n",
      "188 = 35344\n",
      "190 = 36100\n",
      "192 = 36864\n",
      "194 = 37636\n",
      "196 = 38416\n",
      "198 = 39204\n",
      "200 = 40000\n"
     ]
    }
   ],
   "source": [
    "# Print squares of all even numbers between 100 and 200\n",
    "print(\"Square of 100 to 200 all even numbers are:\")\n",
    "for i in range(100, 201):\n",
    "    if i % 2 == 0:\n",
    "        print(f\"{i} = {i * i}\")"
   ]
  },
  {
   "cell_type": "code",
   "execution_count": 5,
   "id": "395d763a-7513-41db-b8e7-ba6de80bfe98",
   "metadata": {},
   "outputs": [
    {
     "name": "stdout",
     "output_type": "stream",
     "text": [
      "Square of 100 to 200 all Odd numbers\n",
      "101 = 10201\n",
      "103 = 10609\n",
      "105 = 11025\n",
      "107 = 11449\n",
      "109 = 11881\n",
      "111 = 12321\n",
      "113 = 12769\n",
      "115 = 13225\n",
      "117 = 13689\n",
      "119 = 14161\n",
      "121 = 14641\n",
      "123 = 15129\n",
      "125 = 15625\n",
      "127 = 16129\n",
      "129 = 16641\n",
      "131 = 17161\n",
      "133 = 17689\n",
      "135 = 18225\n",
      "137 = 18769\n",
      "139 = 19321\n",
      "141 = 19881\n",
      "143 = 20449\n",
      "145 = 21025\n",
      "147 = 21609\n",
      "149 = 22201\n",
      "151 = 22801\n",
      "153 = 23409\n",
      "155 = 24025\n",
      "157 = 24649\n",
      "159 = 25281\n",
      "161 = 25921\n",
      "163 = 26569\n",
      "165 = 27225\n",
      "167 = 27889\n",
      "169 = 28561\n",
      "171 = 29241\n",
      "173 = 29929\n",
      "175 = 30625\n",
      "177 = 31329\n",
      "179 = 32041\n",
      "181 = 32761\n",
      "183 = 33489\n",
      "185 = 34225\n",
      "187 = 34969\n",
      "189 = 35721\n",
      "191 = 36481\n",
      "193 = 37249\n",
      "195 = 38025\n",
      "197 = 38809\n",
      "199 = 39601\n"
     ]
    }
   ],
   "source": [
    "print(\"Square of 100 to 200 all Odd numbers\")\n",
    "\n",
    "for num in range(100,201):\n",
    "    if num%2 !=0:\n",
    "        print(f\"{num } = {num**2}\")\n",
    "    \n"
   ]
  },
  {
   "cell_type": "markdown",
   "id": "53e08546-61ad-4cf2-aeec-2a42733eb9e0",
   "metadata": {},
   "source": [
    "# write a program to count the number of words in a given text.\n",
    "input_text = \"This is a sample text. This text will be used to demonstrate the word counter.\""
   ]
  },
  {
   "cell_type": "code",
   "execution_count": 6,
   "id": "7ed23a0e-42a0-4ae0-894a-7a3c90c6b91d",
   "metadata": {},
   "outputs": [
    {
     "name": "stdout",
     "output_type": "stream",
     "text": [
      "'This': 2\n",
      "'is': 1\n",
      "'a': 1\n",
      "'sample': 1\n",
      "'text.': 1\n",
      "'text': 1\n",
      "'will': 1\n",
      "'be': 1\n",
      "'used': 1\n",
      "'to': 1\n",
      "'demonstrate': 1\n",
      "'the': 1\n",
      "'word': 1\n",
      "'counter.': 1\n"
     ]
    }
   ],
   "source": [
    "def count_words(text):\n",
    "    # Split the text into words\n",
    "    words = text.split()\n",
    "    \n",
    "    # Create a dictionary to store word counts\n",
    "    word_counts = {}\n",
    "    \n",
    "    # Count the occurrences of each word in the text\n",
    "    for word in words:\n",
    "        if word in word_counts:\n",
    "            word_counts[word] += 1\n",
    "        else:\n",
    "            word_counts[word] = 1\n",
    "            \n",
    "    return word_counts\n",
    "\n",
    "# Sample input text\n",
    "input_text = \"This is a sample text. This text will be used to demonstrate the word counter.\"\n",
    "\n",
    "# Count the words in the input text\n",
    "word_counts = count_words(input_text)\n",
    "\n",
    "# Print the word count results\n",
    "for word, count in word_counts.items():\n",
    "    print(f\"'{word}': {count}\")"
   ]
  },
  {
   "cell_type": "markdown",
   "id": "ab6ecde5-4088-471d-9243-ccb43311ccd4",
   "metadata": {},
   "source": [
    "# Check for Palindrome String "
   ]
  },
  {
   "cell_type": "code",
   "execution_count": 10,
   "id": "b12dd29d-2597-4cf8-ab13-964a1727a2c0",
   "metadata": {},
   "outputs": [
    {
     "name": "stdin",
     "output_type": "stream",
     "text": [
      "Enter a string: jahaj\n"
     ]
    },
    {
     "name": "stdout",
     "output_type": "stream",
     "text": [
      "String is jahaj\n",
      "String is Palindrome\n"
     ]
    }
   ],
   "source": [
    "import string\n",
    "\n",
    "def is_palindrom(s):\n",
    "    # Convert string to lowercase for case-insensitive comparison\n",
    "    left = 0\n",
    "    right = len(s) - 1\n",
    "    st = s.lower()\n",
    "\n",
    "    while left < right:\n",
    "        # Skip non-alphanumeric characters from the left\n",
    "        if not st[left].isalnum():\n",
    "            left += 1\n",
    "        # Skip non-alphanumeric characters from the right\n",
    "        elif not st[right].isalnum():\n",
    "            right -= 1\n",
    "        # Compare characters from both ends\n",
    "        elif st[left] != st[right]:\n",
    "            return False\n",
    "        else:\n",
    "            left += 1\n",
    "            right -= 1\n",
    "\n",
    "    return \"Palindrome\"\n",
    "\n",
    "# Take input string from the user\n",
    "input_string = input(\"Enter a string:\")\n",
    "\n",
    "# Print whether the string is a palindrome\n",
    "print(f\"String is {input_string}\")\n",
    "print(f\"String is {is_palindrom(input_string)}\")"
   ]
  },
  {
   "cell_type": "code",
   "execution_count": null,
   "id": "91c7a3e7-1d79-45e2-9f40-9640a6a49cc1",
   "metadata": {},
   "outputs": [],
   "source": []
  }
 ],
 "metadata": {
  "kernelspec": {
   "display_name": "Python 3 (ipykernel)",
   "language": "python",
   "name": "python3"
  },
  "language_info": {
   "codemirror_mode": {
    "name": "ipython",
    "version": 3
   },
   "file_extension": ".py",
   "mimetype": "text/x-python",
   "name": "python",
   "nbconvert_exporter": "python",
   "pygments_lexer": "ipython3",
   "version": "3.11.7"
  }
 },
 "nbformat": 4,
 "nbformat_minor": 5
}
