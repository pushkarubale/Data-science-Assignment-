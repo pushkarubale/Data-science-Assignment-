{
  "cells": [
    {
      "cell_type": "code",
      "execution_count": 9,
      "id": "b62b4186-926f-44f5-aab0-9976781e9917",
      "metadata": {
        "id": "b62b4186-926f-44f5-aab0-9976781e9917"
      },
      "outputs": [],
      "source": [
        "#import libraries\n",
        "import math\n",
        "import scipy.stats as stats\n",
        "\n",
        "# Given data\n",
        "sample_mean = 3050\n",
        "theoretical_mean = 1000 + 5 * 600\n",
        "std_deviation =125\n",
        "sample_size = 25\n",
        "\n"
      ]
    },
    {
      "cell_type": "code",
      "execution_count": 10,
      "id": "9ee17d6c-6149-44ce-8366-6e33c167b44d",
      "metadata": {
        "id": "9ee17d6c-6149-44ce-8366-6e33c167b44d"
      },
      "outputs": [],
      "source": [
        "# Calculate the test statistic (t)\n",
        "standard_error = std_deviation / math.sqrt(sample_size)\n",
        "t_statistic = (sample_mean - theoretical_mean) / standard_error\n"
      ]
    },
    {
      "cell_type": "code",
      "execution_count": 11,
      "id": "e07786a1-8c6e-48f4-be03-9047a2a28b1d",
      "metadata": {
        "colab": {
          "base_uri": "https://localhost:8080/"
        },
        "id": "e07786a1-8c6e-48f4-be03-9047a2a28b1d",
        "outputId": "b9c584c5-7548-401c-d8bf-a6c20c6c05a4"
      },
      "outputs": [
        {
          "output_type": "stream",
          "name": "stdout",
          "text": [
            "Test Statistic (t): -38.0\n"
          ]
        }
      ],
      "source": [
        "print(f\"Test Statistic (t): {t_statistic}\")"
      ]
    },
    {
      "cell_type": "code",
      "execution_count": 12,
      "id": "541f964d-f564-48e7-ad26-f04adf8b1e20",
      "metadata": {
        "id": "541f964d-f564-48e7-ad26-f04adf8b1e20"
      },
      "outputs": [],
      "source": [
        "alpha = 0.05\n",
        "critical_value = stats.norm.ppf(1 - alpha)"
      ]
    },
    {
      "cell_type": "code",
      "execution_count": 14,
      "id": "29d2420a-d865-4d58-8f71-2573aa7c1fdc",
      "metadata": {
        "colab": {
          "base_uri": "https://localhost:8080/"
        },
        "id": "29d2420a-d865-4d58-8f71-2573aa7c1fdc",
        "outputId": "aee26c63-f943-405b-ffe4-3a7e11f55872"
      },
      "outputs": [
        {
          "output_type": "stream",
          "name": "stdout",
          "text": [
            "Critical Value: 1.6448536269514722\n"
          ]
        }
      ],
      "source": [
        "print(f\"Critical Value: {critical_value}\")"
      ]
    },
    {
      "cell_type": "code",
      "execution_count": 15,
      "id": "f59223bd-ce43-4870-888c-2d3c54a90c8b",
      "metadata": {
        "id": "f59223bd-ce43-4870-888c-2d3c54a90c8b"
      },
      "outputs": [],
      "source": [
        "\n",
        "reject_null = t_statistic > critical_value"
      ]
    },
    {
      "cell_type": "code",
      "execution_count": 16,
      "id": "ccd8ea67-ae2d-45b9-9816-0832be00e346",
      "metadata": {
        "colab": {
          "base_uri": "https://localhost:8080/"
        },
        "id": "ccd8ea67-ae2d-45b9-9816-0832be00e346",
        "outputId": "113f2fe6-40fa-4cbd-a94d-4cc0844facac"
      },
      "outputs": [
        {
          "output_type": "stream",
          "name": "stdout",
          "text": [
            "Reject the Null Hypothesis: False\n"
          ]
        }
      ],
      "source": [
        "print(f\"Reject the Null Hypothesis: {reject_null}\")"
      ]
    },
    {
      "cell_type": "code",
      "execution_count": 17,
      "id": "a34e197c-8962-49c6-9e9f-71d118c8a884",
      "metadata": {
        "colab": {
          "base_uri": "https://localhost:8080/"
        },
        "id": "a34e197c-8962-49c6-9e9f-71d118c8a884",
        "outputId": "0f7b8f17-5beb-492e-ec8f-fe7ac3eaebe2"
      },
      "outputs": [
        {
          "output_type": "stream",
          "name": "stdout",
          "text": [
            "Conclusion: There is not enough evidence to support the restaurant owners' claim that the weekly operating costs are higher than the model suggests.\n"
          ]
        }
      ],
      "source": [
        "# Conclusion\n",
        "if reject_null:\n",
        "    conclusion = \"There is strong evidence to support the restaurant owners' claim that the weekly operating costs are higher than the model suggests.\"\n",
        "else:\n",
        "    conclusion = \"There is not enough evidence to support the restaurant owners' claim that the weekly operating costs are higher than the model suggests.\"\n",
        "\n",
        "print(\"Conclusion:\", conclusion)"
      ]
    },
    {
      "cell_type": "code",
      "execution_count": 17,
      "id": "dd9101c5-914c-45ec-a653-35623e60ad41",
      "metadata": {
        "id": "dd9101c5-914c-45ec-a653-35623e60ad41"
      },
      "outputs": [],
      "source": []
    }
  ],
  "metadata": {
    "kernelspec": {
      "display_name": "Python 3 (ipykernel)",
      "language": "python",
      "name": "python3"
    },
    "language_info": {
      "codemirror_mode": {
        "name": "ipython",
        "version": 3
      },
      "file_extension": ".py",
      "mimetype": "text/x-python",
      "name": "python",
      "nbconvert_exporter": "python",
      "pygments_lexer": "ipython3",
      "version": "3.11.7"
    },
    "colab": {
      "provenance": []
    }
  },
  "nbformat": 4,
  "nbformat_minor": 5
}